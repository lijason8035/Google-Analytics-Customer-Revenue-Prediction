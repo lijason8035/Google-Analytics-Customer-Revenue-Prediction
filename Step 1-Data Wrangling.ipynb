{
 "cells": [
  {
   "cell_type": "markdown",
   "metadata": {},
   "source": [
    "## Description\n",
    "\n",
    "- The 80/20 rule has proven true for many businesses–only a small percentage of customers produce most of the revenue. As such, marketing teams are challenged to make appropriate investments in promotional strategies\n",
    "\n",
    "Evaluated by Root Mean Squared Error (RMSE)"
   ]
  },
  {
   "cell_type": "markdown",
   "metadata": {},
   "source": [
    "## Data Fields\n",
    "- **fullVisitorId **- A unique identifier for each user of the Google Merchandise Store.\n",
    "- **channelGrouping ** - The channel via which the user came to the Store.\n",
    "- **date ** - The date on which the user visited the Store.\n",
    "- **device ** - The specifications for the device used to access the Store.\n",
    "- **geoNetwork ** - This section contains information about the geography of the user.\n",
    "- **socialEngagementType ** - Engagement type, either \"Socially Engaged\" or \"Not Socially Engaged\".\n",
    "- **totals ** - This section contains aggregate values across the session.\n",
    "- **trafficSource ** - This section contains information about the Traffic Source from which the session originated.\n",
    "- **visitId ** - An identifier for this session. This is part of the value usually stored as the _utmb cookie. This is only unique to the user. For a completely unique ID, you should use a combination of fullVisitorId and visitId.\n",
    "- **visitNumber ** - The session number for this user. If this is the first session, then this is set to 1.\n",
    "- **visitStartTime ** - The timestamp (expressed as POSIX time).\n",
    "- **hits ** - This row and nested fields are populated for any and all types of hits. Provides a record of all page visits.\n",
    "- **customDimensions ** - This section contains any user-level or session-level custom dimensions that are set for a session. This is a repeated field and has an entry for each dimension that is set.\n",
    "- **totals ** - This set of columns mostly includes high-level aggregate data."
   ]
  },
  {
   "cell_type": "code",
   "execution_count": 2,
   "metadata": {},
   "outputs": [],
   "source": [
    "import pandas as pd\n",
    "import numpy as np\n",
    "import matplotlib.pyplot as plt\n",
    "import datetime as dt\n",
    "import matplotlib.dates as mdates\n",
    "from sklearn.preprocessing import OneHotEncoder\n",
    "import random\n",
    "from sklearn.metrics import mean_squared_error, log_loss, accuracy_score\n",
    "\n",
    "import json\n",
    "from pandas.io.json import json_normalize\n",
    "\n",
    "import pickle"
   ]
  },
  {
   "cell_type": "markdown",
   "metadata": {},
   "source": [
    "## Loading Data Frame"
   ]
  },
  {
   "cell_type": "code",
   "execution_count": 3,
   "metadata": {},
   "outputs": [],
   "source": [
    "def load_df(csv_path='train.csv', nrows=None):\n",
    "    JSON_COLUMNS = ['device', 'geoNetwork', 'totals', 'trafficSource']\n",
    "    \n",
    "    df = pd.read_csv(csv_path, \n",
    "                     converters={column: json.loads for column in JSON_COLUMNS}, \n",
    "                     dtype={'fullVisitorId': 'str'}, # Important!!\n",
    "                     nrows=nrows)\n",
    "    \n",
    "    for column in JSON_COLUMNS:\n",
    "        column_as_df = json_normalize(df[column])\n",
    "        column_as_df.columns = [f\"{column}.{subcolumn}\" for subcolumn in column_as_df.columns]\n",
    "        df = df.drop(column, axis=1).merge(column_as_df, right_index=True, left_index=True)\n",
    "    print(f\"Loaded {csv_path}. Shape: {df.shape}\")\n",
    "    return df"
   ]
  },
  {
   "cell_type": "code",
   "execution_count": 4,
   "metadata": {
    "scrolled": true
   },
   "outputs": [],
   "source": [
    "#df_train = load_df()\n",
    "\n",
    "#df_train.to_pickle(\"proceed_data_v2.pkl\")"
   ]
  },
  {
   "cell_type": "code",
   "execution_count": 3,
   "metadata": {},
   "outputs": [],
   "source": [
    "df_test = pd.read_pickle(\"test_data.pkl\")"
   ]
  },
  {
   "cell_type": "code",
   "execution_count": 2,
   "metadata": {
    "scrolled": false
   },
   "outputs": [
    {
     "name": "stderr",
     "output_type": "stream",
     "text": [
      "/Users/JasonLi/anaconda3/lib/python3.6/site-packages/IPython/core/interactiveshell.py:2785: DtypeWarning: Columns (3,53) have mixed types. Specify dtype option on import or set low_memory=False.\n",
      "  interactivity=interactivity, compiler=compiler, result=result)\n"
     ]
    }
   ],
   "source": [
    "df_train = pd.read_csv(\"Not_clean_without_hits.csv\")"
   ]
  },
  {
   "cell_type": "code",
   "execution_count": 3,
   "metadata": {},
   "outputs": [],
   "source": [
    "df_train = df_train.drop(['Unnamed: 0'],axis = 1)"
   ]
  },
  {
   "cell_type": "code",
   "execution_count": 4,
   "metadata": {
    "scrolled": false
   },
   "outputs": [],
   "source": [
    "df_train['fullVisitorId'] = df_train['fullVisitorId'].apply(lambda x: str(x))"
   ]
  },
  {
   "cell_type": "code",
   "execution_count": 5,
   "metadata": {
    "scrolled": true
   },
   "outputs": [
    {
     "data": {
      "text/plain": [
       "1328519"
      ]
     },
     "execution_count": 5,
     "metadata": {},
     "output_type": "execute_result"
    }
   ],
   "source": [
    "len(df_train[\"fullVisitorId\"].unique())"
   ]
  },
  {
   "cell_type": "code",
   "execution_count": 4,
   "metadata": {
    "scrolled": false
   },
   "outputs": [],
   "source": [
    "df_test['fullVisitorId'] = df_test['fullVisitorId'].apply(lambda x: str(x))"
   ]
  },
  {
   "cell_type": "code",
   "execution_count": 5,
   "metadata": {
    "scrolled": true
   },
   "outputs": [
    {
     "data": {
      "text/plain": [
       "296530"
      ]
     },
     "execution_count": 5,
     "metadata": {},
     "output_type": "execute_result"
    }
   ],
   "source": [
    "len(df_test[\"fullVisitorId\"].unique())"
   ]
  },
  {
   "cell_type": "markdown",
   "metadata": {},
   "source": [
    "## EDA"
   ]
  },
  {
   "cell_type": "code",
   "execution_count": 6,
   "metadata": {
    "scrolled": false
   },
   "outputs": [
    {
     "name": "stdout",
     "output_type": "stream",
     "text": [
      "<class 'pandas.core.frame.DataFrame'>\n",
      "RangeIndex: 1708337 entries, 0 to 1708336\n",
      "Data columns (total 58 columns):\n",
      "channelGrouping                                      object\n",
      "date                                                 int64\n",
      "fullVisitorId                                        object\n",
      "socialEngagementType                                 object\n",
      "visitId                                              int64\n",
      "visitNumber                                          int64\n",
      "visitStartTime                                       int64\n",
      "device.browser                                       object\n",
      "device.browserSize                                   object\n",
      "device.browserVersion                                object\n",
      "device.deviceCategory                                object\n",
      "device.flashVersion                                  object\n",
      "device.isMobile                                      bool\n",
      "device.language                                      object\n",
      "device.mobileDeviceBranding                          object\n",
      "device.mobileDeviceInfo                              object\n",
      "device.mobileDeviceMarketingName                     object\n",
      "device.mobileDeviceModel                             object\n",
      "device.mobileInputSelector                           object\n",
      "device.operatingSystem                               object\n",
      "device.operatingSystemVersion                        object\n",
      "device.screenColors                                  object\n",
      "device.screenResolution                              object\n",
      "geoNetwork.city                                      object\n",
      "geoNetwork.cityId                                    object\n",
      "geoNetwork.continent                                 object\n",
      "geoNetwork.country                                   object\n",
      "geoNetwork.latitude                                  object\n",
      "geoNetwork.longitude                                 object\n",
      "geoNetwork.metro                                     object\n",
      "geoNetwork.networkDomain                             object\n",
      "geoNetwork.networkLocation                           object\n",
      "geoNetwork.region                                    object\n",
      "geoNetwork.subContinent                              object\n",
      "totals.bounces                                       float64\n",
      "totals.hits                                          int64\n",
      "totals.newVisits                                     float64\n",
      "totals.pageviews                                     float64\n",
      "totals.sessionQualityDim                             float64\n",
      "totals.timeOnSite                                    float64\n",
      "totals.totalTransactionRevenue                       float64\n",
      "totals.transactionRevenue                            float64\n",
      "totals.transactions                                  float64\n",
      "totals.visits                                        int64\n",
      "trafficSource.adContent                              object\n",
      "trafficSource.adwordsClickInfo.adNetworkType         object\n",
      "trafficSource.adwordsClickInfo.criteriaParameters    object\n",
      "trafficSource.adwordsClickInfo.gclId                 object\n",
      "trafficSource.adwordsClickInfo.isVideoAd             object\n",
      "trafficSource.adwordsClickInfo.page                  float64\n",
      "trafficSource.adwordsClickInfo.slot                  object\n",
      "trafficSource.campaign                               object\n",
      "trafficSource.campaignCode                           object\n",
      "trafficSource.isTrueDirect                           object\n",
      "trafficSource.keyword                                object\n",
      "trafficSource.medium                                 object\n",
      "trafficSource.referralPath                           object\n",
      "trafficSource.source                                 object\n",
      "dtypes: bool(1), float64(9), int64(6), object(42)\n",
      "memory usage: 744.5+ MB\n"
     ]
    }
   ],
   "source": [
    "df_train.info()"
   ]
  },
  {
   "cell_type": "code",
   "execution_count": 7,
   "metadata": {
    "scrolled": true
   },
   "outputs": [
    {
     "data": {
      "text/html": [
       "<div>\n",
       "<style scoped>\n",
       "    .dataframe tbody tr th:only-of-type {\n",
       "        vertical-align: middle;\n",
       "    }\n",
       "\n",
       "    .dataframe tbody tr th {\n",
       "        vertical-align: top;\n",
       "    }\n",
       "\n",
       "    .dataframe thead th {\n",
       "        text-align: right;\n",
       "    }\n",
       "</style>\n",
       "<table border=\"1\" class=\"dataframe\">\n",
       "  <thead>\n",
       "    <tr style=\"text-align: right;\">\n",
       "      <th></th>\n",
       "      <th>channelGrouping</th>\n",
       "      <th>date</th>\n",
       "      <th>fullVisitorId</th>\n",
       "      <th>socialEngagementType</th>\n",
       "      <th>visitId</th>\n",
       "      <th>visitNumber</th>\n",
       "      <th>visitStartTime</th>\n",
       "      <th>device.browser</th>\n",
       "      <th>device.browserSize</th>\n",
       "      <th>device.browserVersion</th>\n",
       "      <th>...</th>\n",
       "      <th>trafficSource.adwordsClickInfo.isVideoAd</th>\n",
       "      <th>trafficSource.adwordsClickInfo.page</th>\n",
       "      <th>trafficSource.adwordsClickInfo.slot</th>\n",
       "      <th>trafficSource.campaign</th>\n",
       "      <th>trafficSource.campaignCode</th>\n",
       "      <th>trafficSource.isTrueDirect</th>\n",
       "      <th>trafficSource.keyword</th>\n",
       "      <th>trafficSource.medium</th>\n",
       "      <th>trafficSource.referralPath</th>\n",
       "      <th>trafficSource.source</th>\n",
       "    </tr>\n",
       "  </thead>\n",
       "  <tbody>\n",
       "    <tr>\n",
       "      <th>0</th>\n",
       "      <td>Organic Search</td>\n",
       "      <td>20171016</td>\n",
       "      <td>3162355547410993243</td>\n",
       "      <td>Not Socially Engaged</td>\n",
       "      <td>1508198450</td>\n",
       "      <td>1</td>\n",
       "      <td>1508198450</td>\n",
       "      <td>Firefox</td>\n",
       "      <td>not available in demo dataset</td>\n",
       "      <td>not available in demo dataset</td>\n",
       "      <td>...</td>\n",
       "      <td>NaN</td>\n",
       "      <td>NaN</td>\n",
       "      <td>NaN</td>\n",
       "      <td>(not set)</td>\n",
       "      <td>NaN</td>\n",
       "      <td>NaN</td>\n",
       "      <td>water bottle</td>\n",
       "      <td>organic</td>\n",
       "      <td>NaN</td>\n",
       "      <td>google</td>\n",
       "    </tr>\n",
       "    <tr>\n",
       "      <th>1</th>\n",
       "      <td>Referral</td>\n",
       "      <td>20171016</td>\n",
       "      <td>8934116514970143966</td>\n",
       "      <td>Not Socially Engaged</td>\n",
       "      <td>1508176307</td>\n",
       "      <td>6</td>\n",
       "      <td>1508176307</td>\n",
       "      <td>Chrome</td>\n",
       "      <td>not available in demo dataset</td>\n",
       "      <td>not available in demo dataset</td>\n",
       "      <td>...</td>\n",
       "      <td>NaN</td>\n",
       "      <td>NaN</td>\n",
       "      <td>NaN</td>\n",
       "      <td>(not set)</td>\n",
       "      <td>NaN</td>\n",
       "      <td>NaN</td>\n",
       "      <td>NaN</td>\n",
       "      <td>referral</td>\n",
       "      <td>/a/google.com/transportation/mtv-services/bike...</td>\n",
       "      <td>sites.google.com</td>\n",
       "    </tr>\n",
       "    <tr>\n",
       "      <th>2</th>\n",
       "      <td>Direct</td>\n",
       "      <td>20171016</td>\n",
       "      <td>7992466427990357681</td>\n",
       "      <td>Not Socially Engaged</td>\n",
       "      <td>1508201613</td>\n",
       "      <td>1</td>\n",
       "      <td>1508201613</td>\n",
       "      <td>Chrome</td>\n",
       "      <td>not available in demo dataset</td>\n",
       "      <td>not available in demo dataset</td>\n",
       "      <td>...</td>\n",
       "      <td>NaN</td>\n",
       "      <td>NaN</td>\n",
       "      <td>NaN</td>\n",
       "      <td>(not set)</td>\n",
       "      <td>NaN</td>\n",
       "      <td>True</td>\n",
       "      <td>NaN</td>\n",
       "      <td>(none)</td>\n",
       "      <td>NaN</td>\n",
       "      <td>(direct)</td>\n",
       "    </tr>\n",
       "    <tr>\n",
       "      <th>3</th>\n",
       "      <td>Organic Search</td>\n",
       "      <td>20171016</td>\n",
       "      <td>9075655783635761930</td>\n",
       "      <td>Not Socially Engaged</td>\n",
       "      <td>1508169851</td>\n",
       "      <td>1</td>\n",
       "      <td>1508169851</td>\n",
       "      <td>Chrome</td>\n",
       "      <td>not available in demo dataset</td>\n",
       "      <td>not available in demo dataset</td>\n",
       "      <td>...</td>\n",
       "      <td>NaN</td>\n",
       "      <td>NaN</td>\n",
       "      <td>NaN</td>\n",
       "      <td>(not set)</td>\n",
       "      <td>NaN</td>\n",
       "      <td>NaN</td>\n",
       "      <td>(not provided)</td>\n",
       "      <td>organic</td>\n",
       "      <td>NaN</td>\n",
       "      <td>google</td>\n",
       "    </tr>\n",
       "    <tr>\n",
       "      <th>4</th>\n",
       "      <td>Organic Search</td>\n",
       "      <td>20171016</td>\n",
       "      <td>6960673291025684308</td>\n",
       "      <td>Not Socially Engaged</td>\n",
       "      <td>1508190552</td>\n",
       "      <td>1</td>\n",
       "      <td>1508190552</td>\n",
       "      <td>Chrome</td>\n",
       "      <td>not available in demo dataset</td>\n",
       "      <td>not available in demo dataset</td>\n",
       "      <td>...</td>\n",
       "      <td>NaN</td>\n",
       "      <td>NaN</td>\n",
       "      <td>NaN</td>\n",
       "      <td>(not set)</td>\n",
       "      <td>NaN</td>\n",
       "      <td>NaN</td>\n",
       "      <td>(not provided)</td>\n",
       "      <td>organic</td>\n",
       "      <td>NaN</td>\n",
       "      <td>google</td>\n",
       "    </tr>\n",
       "  </tbody>\n",
       "</table>\n",
       "<p>5 rows × 58 columns</p>\n",
       "</div>"
      ],
      "text/plain": [
       "  channelGrouping      date        fullVisitorId  socialEngagementType  \\\n",
       "0  Organic Search  20171016  3162355547410993243  Not Socially Engaged   \n",
       "1        Referral  20171016  8934116514970143966  Not Socially Engaged   \n",
       "2          Direct  20171016  7992466427990357681  Not Socially Engaged   \n",
       "3  Organic Search  20171016  9075655783635761930  Not Socially Engaged   \n",
       "4  Organic Search  20171016  6960673291025684308  Not Socially Engaged   \n",
       "\n",
       "      visitId  visitNumber  visitStartTime device.browser  \\\n",
       "0  1508198450            1      1508198450        Firefox   \n",
       "1  1508176307            6      1508176307         Chrome   \n",
       "2  1508201613            1      1508201613         Chrome   \n",
       "3  1508169851            1      1508169851         Chrome   \n",
       "4  1508190552            1      1508190552         Chrome   \n",
       "\n",
       "              device.browserSize          device.browserVersion  \\\n",
       "0  not available in demo dataset  not available in demo dataset   \n",
       "1  not available in demo dataset  not available in demo dataset   \n",
       "2  not available in demo dataset  not available in demo dataset   \n",
       "3  not available in demo dataset  not available in demo dataset   \n",
       "4  not available in demo dataset  not available in demo dataset   \n",
       "\n",
       "          ...          trafficSource.adwordsClickInfo.isVideoAd  \\\n",
       "0         ...                                               NaN   \n",
       "1         ...                                               NaN   \n",
       "2         ...                                               NaN   \n",
       "3         ...                                               NaN   \n",
       "4         ...                                               NaN   \n",
       "\n",
       "  trafficSource.adwordsClickInfo.page  trafficSource.adwordsClickInfo.slot  \\\n",
       "0                                 NaN                                  NaN   \n",
       "1                                 NaN                                  NaN   \n",
       "2                                 NaN                                  NaN   \n",
       "3                                 NaN                                  NaN   \n",
       "4                                 NaN                                  NaN   \n",
       "\n",
       "  trafficSource.campaign trafficSource.campaignCode  \\\n",
       "0              (not set)                        NaN   \n",
       "1              (not set)                        NaN   \n",
       "2              (not set)                        NaN   \n",
       "3              (not set)                        NaN   \n",
       "4              (not set)                        NaN   \n",
       "\n",
       "  trafficSource.isTrueDirect trafficSource.keyword trafficSource.medium  \\\n",
       "0                        NaN          water bottle              organic   \n",
       "1                        NaN                   NaN             referral   \n",
       "2                       True                   NaN               (none)   \n",
       "3                        NaN        (not provided)              organic   \n",
       "4                        NaN        (not provided)              organic   \n",
       "\n",
       "                          trafficSource.referralPath trafficSource.source  \n",
       "0                                                NaN               google  \n",
       "1  /a/google.com/transportation/mtv-services/bike...     sites.google.com  \n",
       "2                                                NaN             (direct)  \n",
       "3                                                NaN               google  \n",
       "4                                                NaN               google  \n",
       "\n",
       "[5 rows x 58 columns]"
      ]
     },
     "execution_count": 7,
     "metadata": {},
     "output_type": "execute_result"
    }
   ],
   "source": [
    "df_train.head()"
   ]
  },
  {
   "cell_type": "code",
   "execution_count": 8,
   "metadata": {
    "scrolled": false
   },
   "outputs": [
    {
     "data": {
      "text/plain": [
       "<matplotlib.axes._subplots.AxesSubplot at 0x1a41c010f0>"
      ]
     },
     "execution_count": 8,
     "metadata": {},
     "output_type": "execute_result"
    },
    {
     "data": {
      "image/png": "[encoded data removed]",
      "text/plain": [
       "<Figure size 360x360 with 1 Axes>"
      ]
     },
     "metadata": {},
     "output_type": "display_data"
    }
   ],
   "source": [
    "#Finding missing Data\n",
    "MissChart = df_train.isnull().sum()/df_train.shape[0] *100\n",
    "MissChart[MissChart >0].sort_values(ascending=True).plot(kind='barh', figsize = (5,5))"
   ]
  },
  {
   "cell_type": "code",
   "execution_count": 6,
   "metadata": {},
   "outputs": [],
   "source": [
    "#Import Necessary Package\n",
    "from sklearn.preprocessing import Imputer # Replace missing data values\n",
    "from sklearn.preprocessing import LabelEncoder #encode the string accident causes into categorical numbers for later grouping\n",
    "from datetime import datetime\n"
   ]
  },
  {
   "cell_type": "code",
   "execution_count": 7,
   "metadata": {},
   "outputs": [],
   "source": [
    "def clean_data_df(data):\n",
    "    for column in data:\n",
    "        #Removing Data that only contains one unique value\n",
    "        if len(data[column].value_counts())  == 1:\n",
    "            data = data.drop(columns = column)\n",
    "    \n",
    "    data = data.drop([\"trafficSource.adContent\",\"trafficSource.adwordsClickInfo.slot\",\\\n",
    "                    \"trafficSource.adwordsClickInfo.page\",\\\n",
    "                      \"trafficSource.adwordsClickInfo.adNetworkType\", \"trafficSource.adwordsClickInfo.gclId\",\\\n",
    "                    \"trafficSource.keyword\",\"trafficSource.campaign\"\\\n",
    "                    ,\"trafficSource.medium\",\"geoNetwork.metro\",\"geoNetwork.networkDomain\"\\\n",
    "                    ,\"trafficSource.referralPath\",\"geoNetwork.city\",\"geoNetwork.metro\"\\\n",
    "                    ,\"geoNetwork.continent\",\"geoNetwork.region\",\"geoNetwork.country\",\\\n",
    "                      \"device.isMobile\",\"totals.transactionRevenue\",\"totals.transactions\"],axis=1) \n",
    "    return data"
   ]
  },
  {
   "cell_type": "code",
   "execution_count": 11,
   "metadata": {},
   "outputs": [],
   "source": [
    "df_train = clean_data_df(df_train)"
   ]
  },
  {
   "cell_type": "code",
   "execution_count": 12,
   "metadata": {
    "scrolled": false
   },
   "outputs": [
    {
     "name": "stdout",
     "output_type": "stream",
     "text": [
      "<class 'pandas.core.frame.DataFrame'>\n",
      "RangeIndex: 1708337 entries, 0 to 1708336\n",
      "Data columns (total 16 columns):\n",
      "channelGrouping                   object\n",
      "date                              int64\n",
      "fullVisitorId                     object\n",
      "visitId                           int64\n",
      "visitNumber                       int64\n",
      "visitStartTime                    int64\n",
      "device.browser                    object\n",
      "device.deviceCategory             object\n",
      "device.operatingSystem            object\n",
      "geoNetwork.subContinent           object\n",
      "totals.hits                       int64\n",
      "totals.pageviews                  float64\n",
      "totals.sessionQualityDim          float64\n",
      "totals.timeOnSite                 float64\n",
      "totals.totalTransactionRevenue    float64\n",
      "trafficSource.source              object\n",
      "dtypes: float64(4), int64(5), object(7)\n",
      "memory usage: 208.5+ MB\n"
     ]
    }
   ],
   "source": [
    "df_train.info()"
   ]
  },
  {
   "cell_type": "code",
   "execution_count": 8,
   "metadata": {},
   "outputs": [],
   "source": [
    "df_test = clean_data_df(df_test)"
   ]
  },
  {
   "cell_type": "code",
   "execution_count": 10,
   "metadata": {},
   "outputs": [],
   "source": [
    "df_test = df_test.drop('customDimensions',axis =1)"
   ]
  },
  {
   "cell_type": "code",
   "execution_count": 11,
   "metadata": {},
   "outputs": [],
   "source": [
    "def revenue_fun(x):\n",
    "    x = int(x)\n",
    "    if x !=0:\n",
    "        return np.log(x)\n",
    "    else:\n",
    "        x = 0\n",
    "        return x"
   ]
  },
  {
   "cell_type": "code",
   "execution_count": 12,
   "metadata": {},
   "outputs": [],
   "source": [
    "def revenuelabel(x):\n",
    "    if x == 0:\n",
    "        x = 0\n",
    "        return x\n",
    "    else:\n",
    "        x = 1\n",
    "        return x"
   ]
  },
  {
   "cell_type": "code",
   "execution_count": 13,
   "metadata": {},
   "outputs": [],
   "source": [
    "def cat_timehour(x):\n",
    "    if x <= 12:\n",
    "        return \"Morn\"\n",
    "    else:\n",
    "        return \"Even\""
   ]
  },
  {
   "cell_type": "code",
   "execution_count": 14,
   "metadata": {},
   "outputs": [],
   "source": [
    "def tranform_data(data):\n",
    "    \n",
    "    #Filling missing data in Pageviews\n",
    "    DatapageNan = data[~data[\"totals.pageviews\"].notna()]\n",
    "    Datapage = data[data[\"totals.pageviews\"].notna()]\n",
    "\n",
    "    Datapage[\"totals.pageviews\"] = Datapage[\"totals.pageviews\"].apply(lambda x: int(x))\n",
    "    median = Datapage[\"totals.pageviews\"].median()\n",
    "    DatapageNan[\"totals.pageviews\"].fillna(median,inplace = True)\n",
    "    \n",
    "    \n",
    "    frames = [Datapage,DatapageNan]\n",
    "    data = pd.concat(frames)\n",
    "    \n",
    "    median = data[\"totals.sessionQualityDim\"].median()\n",
    "    data[\"totals.sessionQualityDim\"].fillna(median,inplace = True)\n",
    "    data[\"totals.hits\"] = data[\"totals.hits\"].apply(lambda x: int(x))\n",
    "    \n",
    "    #Date and Session time\n",
    "    data['date'] = data['date'].apply(lambda x: dt.date(int(str(x)[:4]), int(str(x)[4:6]), int(str(x)[6:])))\n",
    "    data['visitStartTime'] = pd.to_datetime(data['visitStartTime'],unit='s', errors='coerce')\n",
    "\n",
    "    data['totals.timeOnSite'] = data['totals.timeOnSite'].fillna(1)\n",
    "    \n",
    "    #Taking the log\n",
    "    \n",
    "    values = {'totals.totalTransactionRevenue': 0}\n",
    "    data.fillna(value=values,inplace = True)\n",
    "    data['totals.totalTransactionRevenue'] = data['totals.totalTransactionRevenue'].apply(lambda x: int(x))\n",
    "    data['transactionRevenueLog'] = data['totals.totalTransactionRevenue'].apply(lambda x: revenue_fun(x))\n",
    "    \n",
    "    #Adding label for classifying whether or not customer will spend money in the store\n",
    "    data['Revenue_label'] = data['totals.totalTransactionRevenue'].apply(lambda x: revenuelabel(x))\n",
    "    \n",
    "    #Renaming\n",
    "    data.rename(columns = {\"totals.pageviews\":\"pageviews\", \"device.browser\":\"browser\",\\\n",
    "                            \"device.deviceCategory\": \"deviceCategory\",\\\n",
    "                            \"device.operatingSystem\": \"OS\",\"geoNetwork.subContinent\":\"subContinent\",\\\n",
    "                           \"totals.sessionQualityDim\":\"sessionQualityDim\",\\\n",
    "                            \"trafficSource.source\":\"source\", \"totals.totalTransactionRevenue\":\"Revenue_Original\",\\\n",
    "                           \"totals.hits\":\"hits\", \"totals.timeOnSite\": \"timeonsite\"},inplace = True)\n",
    "    \n",
    "    data['month_year'] = pd.to_datetime(data['visitStartTime']).dt.to_period('M')\n",
    "    data['month'] = data['visitStartTime'].dt.month\n",
    "    data['year'] = data['visitStartTime'].dt.year\n",
    "    #Time of the Day\n",
    "    data['hourofday'] =  data['visitStartTime'].dt.hour\n",
    "    data['timeofday'] = data['hourofday'].apply(lambda x: cat_timehour(x))\n",
    "    \n",
    "    data['timeofweek'] = data['visitStartTime'].dt.weekday_name\n",
    "    data['day'] = data['visitStartTime'].dt.day\n",
    "    \n",
    "    \n",
    "    return data\n"
   ]
  },
  {
   "cell_type": "code",
   "execution_count": 17,
   "metadata": {
    "scrolled": true
   },
   "outputs": [
    {
     "name": "stderr",
     "output_type": "stream",
     "text": [
      "/Users/JasonLi/anaconda3/lib/python3.6/site-packages/ipykernel_launcher.py:8: SettingWithCopyWarning: \n",
      "A value is trying to be set on a copy of a slice from a DataFrame.\n",
      "Try using .loc[row_indexer,col_indexer] = value instead\n",
      "\n",
      "See the caveats in the documentation: http://pandas.pydata.org/pandas-docs/stable/indexing.html#indexing-view-versus-copy\n",
      "  \n",
      "/Users/JasonLi/anaconda3/lib/python3.6/site-packages/pandas/core/generic.py:5430: SettingWithCopyWarning: \n",
      "A value is trying to be set on a copy of a slice from a DataFrame\n",
      "\n",
      "See the caveats in the documentation: http://pandas.pydata.org/pandas-docs/stable/indexing.html#indexing-view-versus-copy\n",
      "  self._update_inplace(new_data)\n"
     ]
    }
   ],
   "source": [
    "df_train2 = tranform_data(df_train)"
   ]
  },
  {
   "cell_type": "code",
   "execution_count": 15,
   "metadata": {},
   "outputs": [
    {
     "name": "stderr",
     "output_type": "stream",
     "text": [
      "/Users/JasonLi/anaconda3/lib/python3.6/site-packages/ipykernel_launcher.py:7: SettingWithCopyWarning: \n",
      "A value is trying to be set on a copy of a slice from a DataFrame.\n",
      "Try using .loc[row_indexer,col_indexer] = value instead\n",
      "\n",
      "See the caveats in the documentation: http://pandas.pydata.org/pandas-docs/stable/indexing.html#indexing-view-versus-copy\n",
      "  import sys\n",
      "/Users/JasonLi/anaconda3/lib/python3.6/site-packages/pandas/core/generic.py:5430: SettingWithCopyWarning: \n",
      "A value is trying to be set on a copy of a slice from a DataFrame\n",
      "\n",
      "See the caveats in the documentation: http://pandas.pydata.org/pandas-docs/stable/indexing.html#indexing-view-versus-copy\n",
      "  self._update_inplace(new_data)\n"
     ]
    }
   ],
   "source": [
    "df_test2 = tranform_data(df_test)"
   ]
  },
  {
   "cell_type": "code",
   "execution_count": 18,
   "metadata": {
    "scrolled": true
   },
   "outputs": [
    {
     "name": "stdout",
     "output_type": "stream",
     "text": [
      "<class 'pandas.core.frame.DataFrame'>\n",
      "Int64Index: 1708337 entries, 0 to 1701301\n",
      "Data columns (total 23 columns):\n",
      "channelGrouping          object\n",
      "date                     object\n",
      "fullVisitorId            object\n",
      "visitId                  int64\n",
      "visitNumber              int64\n",
      "visitStartTime           datetime64[ns]\n",
      "browser                  object\n",
      "deviceCategory           object\n",
      "OS                       object\n",
      "subContinent             object\n",
      "hits                     int64\n",
      "pageviews                float64\n",
      "sessionQualityDim        float64\n",
      "timeonsite               float64\n",
      "Revenue_Original         int64\n",
      "source                   object\n",
      "transactionRevenueLog    float64\n",
      "Revenue_label            int64\n",
      "month_year               object\n",
      "hourofday                int64\n",
      "timeofday                object\n",
      "timeofweek               object\n",
      "day                      int64\n",
      "dtypes: datetime64[ns](1), float64(4), int64(7), object(11)\n",
      "memory usage: 312.8+ MB\n"
     ]
    }
   ],
   "source": [
    "df_train2.info()"
   ]
  },
  {
   "cell_type": "code",
   "execution_count": 19,
   "metadata": {
    "scrolled": false
   },
   "outputs": [
    {
     "data": {
      "text/html": [
       "<div>\n",
       "<style scoped>\n",
       "    .dataframe tbody tr th:only-of-type {\n",
       "        vertical-align: middle;\n",
       "    }\n",
       "\n",
       "    .dataframe tbody tr th {\n",
       "        vertical-align: top;\n",
       "    }\n",
       "\n",
       "    .dataframe thead th {\n",
       "        text-align: right;\n",
       "    }\n",
       "</style>\n",
       "<table border=\"1\" class=\"dataframe\">\n",
       "  <thead>\n",
       "    <tr style=\"text-align: right;\">\n",
       "      <th></th>\n",
       "      <th>channelGrouping</th>\n",
       "      <th>date</th>\n",
       "      <th>fullVisitorId</th>\n",
       "      <th>visitId</th>\n",
       "      <th>visitNumber</th>\n",
       "      <th>visitStartTime</th>\n",
       "      <th>browser</th>\n",
       "      <th>deviceCategory</th>\n",
       "      <th>OS</th>\n",
       "      <th>subContinent</th>\n",
       "      <th>...</th>\n",
       "      <th>timeonsite</th>\n",
       "      <th>Revenue_Original</th>\n",
       "      <th>source</th>\n",
       "      <th>transactionRevenueLog</th>\n",
       "      <th>Revenue_label</th>\n",
       "      <th>month_year</th>\n",
       "      <th>hourofday</th>\n",
       "      <th>timeofday</th>\n",
       "      <th>timeofweek</th>\n",
       "      <th>day</th>\n",
       "    </tr>\n",
       "  </thead>\n",
       "  <tbody>\n",
       "    <tr>\n",
       "      <th>0</th>\n",
       "      <td>Organic Search</td>\n",
       "      <td>2017-10-16</td>\n",
       "      <td>3162355547410993243</td>\n",
       "      <td>1508198450</td>\n",
       "      <td>1</td>\n",
       "      <td>2017-10-17 00:00:50</td>\n",
       "      <td>Firefox</td>\n",
       "      <td>desktop</td>\n",
       "      <td>Windows</td>\n",
       "      <td>Western Europe</td>\n",
       "      <td>...</td>\n",
       "      <td>1.0</td>\n",
       "      <td>0</td>\n",
       "      <td>google</td>\n",
       "      <td>0.0</td>\n",
       "      <td>0</td>\n",
       "      <td>2017-10</td>\n",
       "      <td>0</td>\n",
       "      <td>Morn</td>\n",
       "      <td>Tuesday</td>\n",
       "      <td>17</td>\n",
       "    </tr>\n",
       "    <tr>\n",
       "      <th>1</th>\n",
       "      <td>Referral</td>\n",
       "      <td>2017-10-16</td>\n",
       "      <td>8934116514970143966</td>\n",
       "      <td>1508176307</td>\n",
       "      <td>6</td>\n",
       "      <td>2017-10-16 17:51:47</td>\n",
       "      <td>Chrome</td>\n",
       "      <td>desktop</td>\n",
       "      <td>Chrome OS</td>\n",
       "      <td>Northern America</td>\n",
       "      <td>...</td>\n",
       "      <td>28.0</td>\n",
       "      <td>0</td>\n",
       "      <td>sites.google.com</td>\n",
       "      <td>0.0</td>\n",
       "      <td>0</td>\n",
       "      <td>2017-10</td>\n",
       "      <td>17</td>\n",
       "      <td>Even</td>\n",
       "      <td>Monday</td>\n",
       "      <td>16</td>\n",
       "    </tr>\n",
       "    <tr>\n",
       "      <th>2</th>\n",
       "      <td>Direct</td>\n",
       "      <td>2017-10-16</td>\n",
       "      <td>7992466427990357681</td>\n",
       "      <td>1508201613</td>\n",
       "      <td>1</td>\n",
       "      <td>2017-10-17 00:53:33</td>\n",
       "      <td>Chrome</td>\n",
       "      <td>mobile</td>\n",
       "      <td>Android</td>\n",
       "      <td>Northern America</td>\n",
       "      <td>...</td>\n",
       "      <td>38.0</td>\n",
       "      <td>0</td>\n",
       "      <td>(direct)</td>\n",
       "      <td>0.0</td>\n",
       "      <td>0</td>\n",
       "      <td>2017-10</td>\n",
       "      <td>0</td>\n",
       "      <td>Morn</td>\n",
       "      <td>Tuesday</td>\n",
       "      <td>17</td>\n",
       "    </tr>\n",
       "    <tr>\n",
       "      <th>3</th>\n",
       "      <td>Organic Search</td>\n",
       "      <td>2017-10-16</td>\n",
       "      <td>9075655783635761930</td>\n",
       "      <td>1508169851</td>\n",
       "      <td>1</td>\n",
       "      <td>2017-10-16 16:04:11</td>\n",
       "      <td>Chrome</td>\n",
       "      <td>desktop</td>\n",
       "      <td>Windows</td>\n",
       "      <td>Western Asia</td>\n",
       "      <td>...</td>\n",
       "      <td>1.0</td>\n",
       "      <td>0</td>\n",
       "      <td>google</td>\n",
       "      <td>0.0</td>\n",
       "      <td>0</td>\n",
       "      <td>2017-10</td>\n",
       "      <td>16</td>\n",
       "      <td>Even</td>\n",
       "      <td>Monday</td>\n",
       "      <td>16</td>\n",
       "    </tr>\n",
       "    <tr>\n",
       "      <th>4</th>\n",
       "      <td>Organic Search</td>\n",
       "      <td>2017-10-16</td>\n",
       "      <td>6960673291025684308</td>\n",
       "      <td>1508190552</td>\n",
       "      <td>1</td>\n",
       "      <td>2017-10-16 21:49:12</td>\n",
       "      <td>Chrome</td>\n",
       "      <td>desktop</td>\n",
       "      <td>Windows</td>\n",
       "      <td>Central America</td>\n",
       "      <td>...</td>\n",
       "      <td>52.0</td>\n",
       "      <td>0</td>\n",
       "      <td>google</td>\n",
       "      <td>0.0</td>\n",
       "      <td>0</td>\n",
       "      <td>2017-10</td>\n",
       "      <td>21</td>\n",
       "      <td>Even</td>\n",
       "      <td>Monday</td>\n",
       "      <td>16</td>\n",
       "    </tr>\n",
       "  </tbody>\n",
       "</table>\n",
       "<p>5 rows × 23 columns</p>\n",
       "</div>"
      ],
      "text/plain": [
       "  channelGrouping        date        fullVisitorId     visitId  visitNumber  \\\n",
       "0  Organic Search  2017-10-16  3162355547410993243  1508198450            1   \n",
       "1        Referral  2017-10-16  8934116514970143966  1508176307            6   \n",
       "2          Direct  2017-10-16  7992466427990357681  1508201613            1   \n",
       "3  Organic Search  2017-10-16  9075655783635761930  1508169851            1   \n",
       "4  Organic Search  2017-10-16  6960673291025684308  1508190552            1   \n",
       "\n",
       "       visitStartTime  browser deviceCategory         OS      subContinent  \\\n",
       "0 2017-10-17 00:00:50  Firefox        desktop    Windows    Western Europe   \n",
       "1 2017-10-16 17:51:47   Chrome        desktop  Chrome OS  Northern America   \n",
       "2 2017-10-17 00:53:33   Chrome         mobile    Android  Northern America   \n",
       "3 2017-10-16 16:04:11   Chrome        desktop    Windows      Western Asia   \n",
       "4 2017-10-16 21:49:12   Chrome        desktop    Windows   Central America   \n",
       "\n",
       "  ...   timeonsite  Revenue_Original            source  transactionRevenueLog  \\\n",
       "0 ...          1.0                 0            google                    0.0   \n",
       "1 ...         28.0                 0  sites.google.com                    0.0   \n",
       "2 ...         38.0                 0          (direct)                    0.0   \n",
       "3 ...          1.0                 0            google                    0.0   \n",
       "4 ...         52.0                 0            google                    0.0   \n",
       "\n",
       "   Revenue_label month_year  hourofday  timeofday timeofweek  day  \n",
       "0              0    2017-10          0       Morn    Tuesday   17  \n",
       "1              0    2017-10         17       Even     Monday   16  \n",
       "2              0    2017-10          0       Morn    Tuesday   17  \n",
       "3              0    2017-10         16       Even     Monday   16  \n",
       "4              0    2017-10         21       Even     Monday   16  \n",
       "\n",
       "[5 rows x 23 columns]"
      ]
     },
     "execution_count": 19,
     "metadata": {},
     "output_type": "execute_result"
    }
   ],
   "source": [
    "df_train2.head()"
   ]
  },
  {
   "cell_type": "code",
   "execution_count": 20,
   "metadata": {},
   "outputs": [],
   "source": [
    "df_train2.to_pickle(\"Data_Wrangling.pkl\")"
   ]
  },
  {
   "cell_type": "code",
   "execution_count": 16,
   "metadata": {},
   "outputs": [],
   "source": [
    "df_test2.to_pickle(\"Data_Wrangling_test.pkl\")"
   ]
  },
  {
   "cell_type": "code",
   "execution_count": null,
   "metadata": {},
   "outputs": [],
   "source": []
  }
 ],
 "metadata": {
  "kernelspec": {
   "display_name": "Python 3",
   "language": "python",
   "name": "python3"
  },
  "language_info": {
   "codemirror_mode": {
    "name": "ipython",
    "version": 3
   },
   "file_extension": ".py",
   "mimetype": "text/x-python",
   "name": "python",
   "nbconvert_exporter": "python",
   "pygments_lexer": "ipython3",
   "version": "3.6.5"
  },
  "varInspector": {
   "cols": {
    "lenName": 16,
    "lenType": 16,
    "lenVar": 40
   },
   "kernels_config": {
    "python": {
     "delete_cmd_postfix": "",
     "delete_cmd_prefix": "del ",
     "library": "var_list.py",
     "varRefreshCmd": "print(var_dic_list())"
    },
    "r": {
     "delete_cmd_postfix": ") ",
     "delete_cmd_prefix": "rm(",
     "library": "var_list.r",
     "varRefreshCmd": "cat(var_dic_list()) "
    }
   },
   "types_to_exclude": [
    "module",
    "function",
    "builtin_function_or_method",
    "instance",
    "_Feature"
   ],
   "window_display": false
  }
 },
 "nbformat": 4,
 "nbformat_minor": 2
}
