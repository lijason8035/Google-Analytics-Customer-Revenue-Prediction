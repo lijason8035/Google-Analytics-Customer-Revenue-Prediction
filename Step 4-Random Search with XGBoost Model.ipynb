{
 "cells": [
  {
   "cell_type": "code",
   "execution_count": 4,
   "metadata": {},
   "outputs": [],
   "source": [
    "import pandas as pd\n",
    "import numpy as np\n",
    "import matplotlib.pyplot as plt\n",
    "\n",
    "from sklearn.model_selection import train_test_split\n",
    "from sklearn.metrics import mean_squared_error, log_loss, accuracy_score\n",
    "import seaborn as sns\n",
    "import pickle\n",
    "\n",
    "from xgboost import plot_importance\n",
    "from sklearn.model_selection import RandomizedSearchCV, GridSearchCV\n",
    "from xgboost import XGBRegressor\n",
    "from datetime import datetime"
   ]
  },
  {
   "cell_type": "code",
   "execution_count": 5,
   "metadata": {},
   "outputs": [],
   "source": [
    "test = pd.read_pickle(\"Test.pkl\")"
   ]
  },
  {
   "cell_type": "code",
   "execution_count": 7,
   "metadata": {},
   "outputs": [],
   "source": [
    "train = pd.read_pickle(\"Train.pkl\")"
   ]
  },
  {
   "cell_type": "code",
   "execution_count": 6,
   "metadata": {},
   "outputs": [],
   "source": [
    "test2 = test[test['freq_label'] ==0]\n",
    "test3 = test[test['freq_label'] !=0]"
   ]
  },
  {
   "cell_type": "code",
   "execution_count": 8,
   "metadata": {},
   "outputs": [],
   "source": [
    "train['pageviews_log'] = train['pageviews'].apply(lambda x: np.log(x))"
   ]
  },
  {
   "cell_type": "code",
   "execution_count": 9,
   "metadata": {},
   "outputs": [],
   "source": [
    "test['pageviews_log'] = test['pageviews'].apply(lambda x: np.log(x))"
   ]
  },
  {
   "cell_type": "code",
   "execution_count": 10,
   "metadata": {
    "scrolled": true
   },
   "outputs": [
    {
     "data": {
      "text/plain": [
       "8"
      ]
     },
     "execution_count": 10,
     "metadata": {},
     "output_type": "execute_result"
    }
   ],
   "source": [
    "S1 = set(test2[test2['transactionRevenueLog']>0].index)\n",
    "S2 = set(train[train['transactionRevenueLog']>0].index)\n",
    "len(S1.intersection(S2))"
   ]
  },
  {
   "cell_type": "code",
   "execution_count": 11,
   "metadata": {},
   "outputs": [
    {
     "data": {
      "text/plain": [
       "1432"
      ]
     },
     "execution_count": 11,
     "metadata": {},
     "output_type": "execute_result"
    }
   ],
   "source": [
    "S1 = set(test2.index)\n",
    "S2 = set(train.index)\n",
    "len(S1.intersection(S2))"
   ]
  },
  {
   "cell_type": "code",
   "execution_count": 12,
   "metadata": {},
   "outputs": [],
   "source": [
    "S1 = set(test.index)\n",
    "S2 = set(train.index)\n",
    "inter = S1.intersection(S2)"
   ]
  },
  {
   "cell_type": "code",
   "execution_count": 113,
   "metadata": {},
   "outputs": [
    {
     "data": {
      "text/plain": [
       "0.027632376324736207"
      ]
     },
     "execution_count": 113,
     "metadata": {},
     "output_type": "execute_result"
    }
   ],
   "source": [
    "test.loc[test.index.isin(inter)]['transactionRevenueLog'].sum()/test['transactionRevenueLog'].sum()"
   ]
  },
  {
   "cell_type": "code",
   "execution_count": 105,
   "metadata": {},
   "outputs": [
    {
     "data": {
      "text/plain": [
       "1328519"
      ]
     },
     "execution_count": 105,
     "metadata": {},
     "output_type": "execute_result"
    }
   ],
   "source": [
    "len(train.index)"
   ]
  },
  {
   "cell_type": "code",
   "execution_count": 106,
   "metadata": {},
   "outputs": [
    {
     "data": {
      "text/plain": [
       "0.19555610420325187"
      ]
     },
     "execution_count": 106,
     "metadata": {},
     "output_type": "execute_result"
    }
   ],
   "source": [
    "2598/len(train)*100"
   ]
  },
  {
   "cell_type": "code",
   "execution_count": 4,
   "metadata": {},
   "outputs": [
    {
     "data": {
      "text/html": [
       "<div>\n",
       "<style scoped>\n",
       "    .dataframe tbody tr th:only-of-type {\n",
       "        vertical-align: middle;\n",
       "    }\n",
       "\n",
       "    .dataframe tbody tr th {\n",
       "        vertical-align: top;\n",
       "    }\n",
       "\n",
       "    .dataframe thead th {\n",
       "        text-align: right;\n",
       "    }\n",
       "</style>\n",
       "<table border=\"1\" class=\"dataframe\">\n",
       "  <thead>\n",
       "    <tr style=\"text-align: right;\">\n",
       "      <th></th>\n",
       "      <th>(Other)</th>\n",
       "      <th>Affiliates</th>\n",
       "      <th>Direct</th>\n",
       "      <th>Display</th>\n",
       "      <th>Organic Search</th>\n",
       "      <th>Paid Search</th>\n",
       "      <th>Referral</th>\n",
       "      <th>Social</th>\n",
       "      <th>Chrome</th>\n",
       "      <th>Firefox</th>\n",
       "      <th>...</th>\n",
       "      <th>pageviews</th>\n",
       "      <th>timeonsite</th>\n",
       "      <th>Revenue_Original</th>\n",
       "      <th>sessionQualityDim</th>\n",
       "      <th>Revenue_label</th>\n",
       "      <th>transactionRevenueLog</th>\n",
       "      <th>number_visits</th>\n",
       "      <th>freq_label</th>\n",
       "      <th>visit_per_month</th>\n",
       "      <th>visit_per_hour</th>\n",
       "    </tr>\n",
       "    <tr>\n",
       "      <th>fullVisitorId</th>\n",
       "      <th></th>\n",
       "      <th></th>\n",
       "      <th></th>\n",
       "      <th></th>\n",
       "      <th></th>\n",
       "      <th></th>\n",
       "      <th></th>\n",
       "      <th></th>\n",
       "      <th></th>\n",
       "      <th></th>\n",
       "      <th></th>\n",
       "      <th></th>\n",
       "      <th></th>\n",
       "      <th></th>\n",
       "      <th></th>\n",
       "      <th></th>\n",
       "      <th></th>\n",
       "      <th></th>\n",
       "      <th></th>\n",
       "      <th></th>\n",
       "      <th></th>\n",
       "    </tr>\n",
       "  </thead>\n",
       "  <tbody>\n",
       "    <tr>\n",
       "      <th>0000593255797039768</th>\n",
       "      <td>0</td>\n",
       "      <td>0</td>\n",
       "      <td>0</td>\n",
       "      <td>0</td>\n",
       "      <td>1</td>\n",
       "      <td>0</td>\n",
       "      <td>0</td>\n",
       "      <td>0</td>\n",
       "      <td>1</td>\n",
       "      <td>0</td>\n",
       "      <td>...</td>\n",
       "      <td>11.0</td>\n",
       "      <td>54.0</td>\n",
       "      <td>0</td>\n",
       "      <td>2.0</td>\n",
       "      <td>0</td>\n",
       "      <td>0.0</td>\n",
       "      <td>2</td>\n",
       "      <td>1</td>\n",
       "      <td>1.0</td>\n",
       "      <td>2.0</td>\n",
       "    </tr>\n",
       "    <tr>\n",
       "      <th>0000844628216443785</th>\n",
       "      <td>0</td>\n",
       "      <td>0</td>\n",
       "      <td>0</td>\n",
       "      <td>0</td>\n",
       "      <td>1</td>\n",
       "      <td>0</td>\n",
       "      <td>0</td>\n",
       "      <td>0</td>\n",
       "      <td>1</td>\n",
       "      <td>0</td>\n",
       "      <td>...</td>\n",
       "      <td>14.0</td>\n",
       "      <td>189.0</td>\n",
       "      <td>0</td>\n",
       "      <td>2.0</td>\n",
       "      <td>0</td>\n",
       "      <td>0.0</td>\n",
       "      <td>2</td>\n",
       "      <td>1</td>\n",
       "      <td>1.0</td>\n",
       "      <td>1.0</td>\n",
       "    </tr>\n",
       "    <tr>\n",
       "      <th>000137710042816150</th>\n",
       "      <td>0</td>\n",
       "      <td>0</td>\n",
       "      <td>0</td>\n",
       "      <td>0</td>\n",
       "      <td>1</td>\n",
       "      <td>0</td>\n",
       "      <td>0</td>\n",
       "      <td>0</td>\n",
       "      <td>0</td>\n",
       "      <td>0</td>\n",
       "      <td>...</td>\n",
       "      <td>2.0</td>\n",
       "      <td>2.0</td>\n",
       "      <td>0</td>\n",
       "      <td>1.0</td>\n",
       "      <td>0</td>\n",
       "      <td>0.0</td>\n",
       "      <td>2</td>\n",
       "      <td>1</td>\n",
       "      <td>1.0</td>\n",
       "      <td>2.0</td>\n",
       "    </tr>\n",
       "    <tr>\n",
       "      <th>000170187170673177</th>\n",
       "      <td>0</td>\n",
       "      <td>0</td>\n",
       "      <td>0</td>\n",
       "      <td>0</td>\n",
       "      <td>0</td>\n",
       "      <td>0</td>\n",
       "      <td>1</td>\n",
       "      <td>0</td>\n",
       "      <td>1</td>\n",
       "      <td>0</td>\n",
       "      <td>...</td>\n",
       "      <td>6.0</td>\n",
       "      <td>1590.0</td>\n",
       "      <td>0</td>\n",
       "      <td>1.0</td>\n",
       "      <td>0</td>\n",
       "      <td>0.0</td>\n",
       "      <td>3</td>\n",
       "      <td>1</td>\n",
       "      <td>1.0</td>\n",
       "      <td>3.0</td>\n",
       "    </tr>\n",
       "    <tr>\n",
       "      <th>0002347517244240373</th>\n",
       "      <td>0</td>\n",
       "      <td>0</td>\n",
       "      <td>0</td>\n",
       "      <td>0</td>\n",
       "      <td>1</td>\n",
       "      <td>0</td>\n",
       "      <td>0</td>\n",
       "      <td>0</td>\n",
       "      <td>1</td>\n",
       "      <td>0</td>\n",
       "      <td>...</td>\n",
       "      <td>6.0</td>\n",
       "      <td>121.0</td>\n",
       "      <td>0</td>\n",
       "      <td>1.0</td>\n",
       "      <td>0</td>\n",
       "      <td>0.0</td>\n",
       "      <td>2</td>\n",
       "      <td>1</td>\n",
       "      <td>1.0</td>\n",
       "      <td>2.0</td>\n",
       "    </tr>\n",
       "  </tbody>\n",
       "</table>\n",
       "<p>5 rows × 67 columns</p>\n",
       "</div>"
      ],
      "text/plain": [
       "                     (Other)  Affiliates  Direct  Display  Organic Search  \\\n",
       "fullVisitorId                                                               \n",
       "0000593255797039768        0           0       0        0               1   \n",
       "0000844628216443785        0           0       0        0               1   \n",
       "000137710042816150         0           0       0        0               1   \n",
       "000170187170673177         0           0       0        0               0   \n",
       "0002347517244240373        0           0       0        0               1   \n",
       "\n",
       "                     Paid Search  Referral  Social  Chrome  Firefox  \\\n",
       "fullVisitorId                                                         \n",
       "0000593255797039768            0         0       0       1        0   \n",
       "0000844628216443785            0         0       0       1        0   \n",
       "000137710042816150             0         0       0       0        0   \n",
       "000170187170673177             0         1       0       1        0   \n",
       "0002347517244240373            0         0       0       1        0   \n",
       "\n",
       "                          ...        pageviews  timeonsite  Revenue_Original  \\\n",
       "fullVisitorId             ...                                                  \n",
       "0000593255797039768       ...             11.0        54.0                 0   \n",
       "0000844628216443785       ...             14.0       189.0                 0   \n",
       "000137710042816150        ...              2.0         2.0                 0   \n",
       "000170187170673177        ...              6.0      1590.0                 0   \n",
       "0002347517244240373       ...              6.0       121.0                 0   \n",
       "\n",
       "                     sessionQualityDim  Revenue_label  transactionRevenueLog  \\\n",
       "fullVisitorId                                                                  \n",
       "0000593255797039768                2.0              0                    0.0   \n",
       "0000844628216443785                2.0              0                    0.0   \n",
       "000137710042816150                 1.0              0                    0.0   \n",
       "000170187170673177                 1.0              0                    0.0   \n",
       "0002347517244240373                1.0              0                    0.0   \n",
       "\n",
       "                     number_visits  freq_label  visit_per_month  \\\n",
       "fullVisitorId                                                     \n",
       "0000593255797039768              2           1              1.0   \n",
       "0000844628216443785              2           1              1.0   \n",
       "000137710042816150               2           1              1.0   \n",
       "000170187170673177               3           1              1.0   \n",
       "0002347517244240373              2           1              1.0   \n",
       "\n",
       "                     visit_per_hour  \n",
       "fullVisitorId                        \n",
       "0000593255797039768             2.0  \n",
       "0000844628216443785             1.0  \n",
       "000137710042816150              2.0  \n",
       "000170187170673177              3.0  \n",
       "0002347517244240373             2.0  \n",
       "\n",
       "[5 rows x 67 columns]"
      ]
     },
     "execution_count": 4,
     "metadata": {},
     "output_type": "execute_result"
    }
   ],
   "source": [
    "train.head()"
   ]
  },
  {
   "cell_type": "code",
   "execution_count": 56,
   "metadata": {},
   "outputs": [
    {
     "name": "stdout",
     "output_type": "stream",
     "text": [
      "<class 'pandas.core.frame.DataFrame'>\n",
      "Index: 20000 entries, 2937183161395226723 to 4327728533284832353\n",
      "Data columns (total 63 columns):\n",
      "(Other)               20000 non-null int64\n",
      "(not set)             20000 non-null int64\n",
      "Affiliates            20000 non-null int64\n",
      "Australasia           20000 non-null int64\n",
      "Caribbean             20000 non-null int64\n",
      "Central America       20000 non-null int64\n",
      "Central Asia          20000 non-null int64\n",
      "Chrome                20000 non-null int64\n",
      "Chrome OS             20000 non-null int64\n",
      "Direct                20000 non-null int64\n",
      "Display               20000 non-null int64\n",
      "Eastern Africa        20000 non-null int64\n",
      "Eastern Asia          20000 non-null int64\n",
      "Eastern Europe        20000 non-null int64\n",
      "Even                  20000 non-null int64\n",
      "Firefox               20000 non-null int64\n",
      "Friday                20000 non-null int64\n",
      "Macintosh             20000 non-null int64\n",
      "Melanesia             20000 non-null int64\n",
      "Micronesian Region    20000 non-null int64\n",
      "Middle Africa         20000 non-null int64\n",
      "Monday                20000 non-null int64\n",
      "Morn                  20000 non-null int64\n",
      "Northern Africa       20000 non-null int64\n",
      "Northern America      20000 non-null int64\n",
      "Northern Europe       20000 non-null int64\n",
      "Organic Search        20000 non-null int64\n",
      "Other Browser         20000 non-null int64\n",
      "Other Source          20000 non-null int64\n",
      "Other_OS              20000 non-null int64\n",
      "Paid Search           20000 non-null int64\n",
      "Polynesia             20000 non-null int64\n",
      "Referral              20000 non-null int64\n",
      "Safari                20000 non-null int64\n",
      "Saturday              20000 non-null int64\n",
      "Social                20000 non-null int64\n",
      "South America         20000 non-null int64\n",
      "Southeast Asia        20000 non-null int64\n",
      "Southern Africa       20000 non-null int64\n",
      "Southern Asia         20000 non-null int64\n",
      "Southern Europe       20000 non-null int64\n",
      "Sunday                20000 non-null int64\n",
      "Thursday              20000 non-null int64\n",
      "Tuesday               20000 non-null int64\n",
      "Wednesday             20000 non-null int64\n",
      "Western Africa        20000 non-null int64\n",
      "Western Asia          20000 non-null int64\n",
      "Western Europe        20000 non-null int64\n",
      "Windows               20000 non-null int64\n",
      "desktop               20000 non-null int64\n",
      "direct traffic        20000 non-null int64\n",
      "from google           20000 non-null int64\n",
      "from youtube          20000 non-null int64\n",
      "hits                  20000 non-null int64\n",
      "mobile                20000 non-null int64\n",
      "number_visits         20000 non-null int64\n",
      "pageviews             20000 non-null float64\n",
      "sessionQualityDim     20000 non-null float64\n",
      "tablet                20000 non-null int64\n",
      "timeonsite            20000 non-null float64\n",
      "visitNumber           20000 non-null int64\n",
      "visit_per_hour        20000 non-null float64\n",
      "visit_per_month       20000 non-null float64\n",
      "dtypes: float64(5), int64(58)\n",
      "memory usage: 10.4+ MB\n"
     ]
    }
   ],
   "source": [
    "result.info()"
   ]
  },
  {
   "cell_type": "code",
   "execution_count": 55,
   "metadata": {},
   "outputs": [
    {
     "name": "stdout",
     "output_type": "stream",
     "text": [
      "<class 'pandas.core.frame.DataFrame'>\n",
      "Index: 296530 entries, 0000450284137157873 to 6945787574691873152\n",
      "Data columns (total 62 columns):\n",
      "(Other)               296530 non-null int64\n",
      "(not set)             296530 non-null int64\n",
      "Affiliates            296530 non-null int64\n",
      "Australasia           296530 non-null int64\n",
      "Caribbean             296530 non-null int64\n",
      "Central America       296530 non-null int64\n",
      "Central Asia          296530 non-null int64\n",
      "Chrome                296530 non-null int64\n",
      "Chrome OS             296530 non-null int64\n",
      "Direct                296530 non-null int64\n",
      "Display               296530 non-null int64\n",
      "Eastern Africa        296530 non-null int64\n",
      "Eastern Asia          296530 non-null int64\n",
      "Eastern Europe        296530 non-null int64\n",
      "Even                  296530 non-null int64\n",
      "Firefox               296530 non-null int64\n",
      "Friday                296530 non-null int64\n",
      "Macintosh             296530 non-null int64\n",
      "Melanesia             296530 non-null int64\n",
      "Micronesian Region    243468 non-null float64\n",
      "Middle Africa         296530 non-null int64\n",
      "Monday                296530 non-null int64\n",
      "Morn                  296530 non-null int64\n",
      "Northern Africa       296530 non-null int64\n",
      "Northern America      296530 non-null int64\n",
      "Northern Europe       296530 non-null int64\n",
      "Organic Search        296530 non-null int64\n",
      "Other Browser         296530 non-null int64\n",
      "Other Source          296530 non-null int64\n",
      "Other_OS              296530 non-null int64\n",
      "Paid Search           296530 non-null int64\n",
      "Polynesia             296530 non-null int64\n",
      "Referral              296530 non-null int64\n",
      "Safari                296530 non-null int64\n",
      "Saturday              296530 non-null int64\n",
      "Social                296530 non-null int64\n",
      "South America         296530 non-null int64\n",
      "Southeast Asia        296530 non-null int64\n",
      "Southern Africa       296530 non-null int64\n",
      "Southern Asia         296530 non-null int64\n",
      "Southern Europe       296530 non-null int64\n",
      "Sunday                296530 non-null int64\n",
      "Thursday              296530 non-null int64\n",
      "Tuesday               296530 non-null int64\n",
      "Wednesday             296530 non-null int64\n",
      "Western Africa        296530 non-null int64\n",
      "Western Asia          296530 non-null int64\n",
      "Western Europe        296530 non-null int64\n",
      "Windows               296530 non-null int64\n",
      "desktop               296530 non-null int64\n",
      "direct traffic        296530 non-null int64\n",
      "from google           296530 non-null int64\n",
      "from youtube          296530 non-null int64\n",
      "mobile                296530 non-null int64\n",
      "tablet                296530 non-null int64\n",
      "visitNumber           296530 non-null int64\n",
      "hits                  296530 non-null int64\n",
      "pageviews             296530 non-null float64\n",
      "sessionQualityDim     296530 non-null float64\n",
      "number_visits         296530 non-null int64\n",
      "visit_per_month       296530 non-null float64\n",
      "visit_per_hour        296530 non-null float64\n",
      "dtypes: float64(5), int64(57)\n",
      "memory usage: 142.5+ MB\n"
     ]
    }
   ],
   "source": [
    "test.info()"
   ]
  },
  {
   "cell_type": "code",
   "execution_count": 60,
   "metadata": {},
   "outputs": [],
   "source": [
    "test = test.drop('freq_label', axis = 1)"
   ]
  },
  {
   "cell_type": "code",
   "execution_count": 120,
   "metadata": {},
   "outputs": [],
   "source": [
    "DataR = train[train['Revenue_label'] == 1]\n",
    "DataNonR = train[train['Revenue_label'] != 1]"
   ]
  },
  {
   "cell_type": "code",
   "execution_count": 9,
   "metadata": {},
   "outputs": [],
   "source": [
    "true_ratio = len(DataR)/len(train)"
   ]
  },
  {
   "cell_type": "code",
   "execution_count": 10,
   "metadata": {},
   "outputs": [
    {
     "data": {
      "text/plain": [
       "0.9878210247651709"
      ]
     },
     "execution_count": 10,
     "metadata": {},
     "output_type": "execute_result"
    }
   ],
   "source": [
    "1- true_ratio"
   ]
  },
  {
   "cell_type": "code",
   "execution_count": null,
   "metadata": {},
   "outputs": [],
   "source": []
  },
  {
   "cell_type": "code",
   "execution_count": 121,
   "metadata": {},
   "outputs": [],
   "source": [
    "from scipy.stats import iqr\n",
    "Q = list((DataR['transactionRevenueLog']).describe())\n",
    "Q1 = Q[4]\n",
    "Q3 = Q[6]\n",
    "iqrange = iqr(DataR['transactionRevenueLog'])\n",
    "Outlierlow = Q1-1.5*iqrange\n",
    "Outlierhigh = Q3+1.5*iqrange\n",
    "temp = DataR[DataR['transactionRevenueLog'] < Outlierhigh]#\n",
    "Data_nonOutlier = temp[temp['transactionRevenueLog'] >= Outlierlow]"
   ]
  },
  {
   "cell_type": "code",
   "execution_count": 122,
   "metadata": {
    "scrolled": false
   },
   "outputs": [
    {
     "data": {
      "text/plain": [
       "(16180, 15698)"
      ]
     },
     "execution_count": 122,
     "metadata": {},
     "output_type": "execute_result"
    }
   ],
   "source": [
    "len(DataR), len(Data_nonOutlier)"
   ]
  },
  {
   "cell_type": "code",
   "execution_count": 123,
   "metadata": {},
   "outputs": [],
   "source": [
    "def returnlabel(data_frame):\n",
    "    label = data_frame[[\"transactionRevenueLog\",\"Revenue_label\"]]\n",
    "    data_frame = data_frame.drop([\"transactionRevenueLog\",\"Revenue_Original\",\"Revenue_label\"],axis = 1)\n",
    "    \n",
    "    return data_frame, label"
   ]
  },
  {
   "cell_type": "code",
   "execution_count": 124,
   "metadata": {},
   "outputs": [],
   "source": [
    "#Test"
   ]
  },
  {
   "cell_type": "code",
   "execution_count": 125,
   "metadata": {},
   "outputs": [],
   "source": [
    "Data_Rframe, Rlabel = returnlabel(Data_nonOutlier)"
   ]
  },
  {
   "cell_type": "code",
   "execution_count": 126,
   "metadata": {},
   "outputs": [],
   "source": [
    "X_DR, X_test, y_DR, y_test = train_test_split(Data_Rframe, Rlabel, test_size=0.33)"
   ]
  },
  {
   "cell_type": "markdown",
   "metadata": {},
   "source": [
    "Test Data"
   ]
  },
  {
   "cell_type": "code",
   "execution_count": 127,
   "metadata": {},
   "outputs": [],
   "source": [
    "testR = X_test.join(y_test)"
   ]
  },
  {
   "cell_type": "code",
   "execution_count": 128,
   "metadata": {},
   "outputs": [],
   "source": [
    "testratio = 0.985"
   ]
  },
  {
   "cell_type": "code",
   "execution_count": 129,
   "metadata": {},
   "outputs": [],
   "source": [
    "testNonR = DataNonR.sample(n = int(len(testR)/(1-testratio)))\n",
    "#Data_nonOutlier.sample(n = int(total_n*Rratio))\n",
    "#result = result.sample(frac=1)"
   ]
  },
  {
   "cell_type": "code",
   "execution_count": 130,
   "metadata": {},
   "outputs": [
    {
     "data": {
      "text/plain": [
       "1.477836727708369"
      ]
     },
     "execution_count": 130,
     "metadata": {},
     "output_type": "execute_result"
    }
   ],
   "source": [
    "len(testR)/(len(testNonR) +len(testR))*100"
   ]
  },
  {
   "cell_type": "code",
   "execution_count": 131,
   "metadata": {},
   "outputs": [
    {
     "name": "stderr",
     "output_type": "stream",
     "text": [
      "/Users/JasonLi/anaconda3/lib/python3.6/site-packages/ipykernel_launcher.py:2: FutureWarning: Sorting because non-concatenation axis is not aligned. A future version\n",
      "of pandas will change to not sort by default.\n",
      "\n",
      "To accept the future behavior, pass 'sort=True'.\n",
      "\n",
      "To retain the current behavior and silence the warning, pass sort=False\n",
      "\n",
      "  \n"
     ]
    }
   ],
   "source": [
    "frames = [testNonR, testR]\n",
    "test = pd.concat(frames)\n",
    "test = test.sample(frac=1)"
   ]
  },
  {
   "cell_type": "code",
   "execution_count": 145,
   "metadata": {},
   "outputs": [],
   "source": [
    "test_label = test[[\"transactionRevenueLog\",\"Revenue_label\",\"Revenue_Original\"]]\n",
    "\n",
    "test = test.drop([\"transactionRevenueLog\",\"Revenue_Original\",'Revenue_label'],axis = 1)\n",
    "#\"Revenue_label\""
   ]
  },
  {
   "cell_type": "markdown",
   "metadata": {},
   "source": [
    "Training Data"
   ]
  },
  {
   "cell_type": "code",
   "execution_count": 133,
   "metadata": {},
   "outputs": [],
   "source": [
    "total_n = 20000\n",
    "int(total_n*0.985)\n",
    "Rratio = 1-0.989"
   ]
  },
  {
   "cell_type": "code",
   "execution_count": 134,
   "metadata": {},
   "outputs": [],
   "source": [
    "sampleNon = DataNonR.sample(n = int(total_n*(1-Rratio)))\n",
    "sampleR = X_DR.join(y_DR).sample(n = int(total_n*Rratio))\n",
    "#Data_nonOutlier.sample(n = int(total_n*Rratio))\n",
    "#result = result.sample(frac=1)"
   ]
  },
  {
   "cell_type": "code",
   "execution_count": 135,
   "metadata": {},
   "outputs": [
    {
     "data": {
      "text/plain": [
       "1.0999999999999999"
      ]
     },
     "execution_count": 135,
     "metadata": {},
     "output_type": "execute_result"
    }
   ],
   "source": [
    "len(sampleR)/(len(sampleNon) +len(sampleR))*100"
   ]
  },
  {
   "cell_type": "code",
   "execution_count": 136,
   "metadata": {
    "scrolled": false
   },
   "outputs": [
    {
     "name": "stderr",
     "output_type": "stream",
     "text": [
      "/Users/JasonLi/anaconda3/lib/python3.6/site-packages/ipykernel_launcher.py:2: FutureWarning: Sorting because non-concatenation axis is not aligned. A future version\n",
      "of pandas will change to not sort by default.\n",
      "\n",
      "To accept the future behavior, pass 'sort=True'.\n",
      "\n",
      "To retain the current behavior and silence the warning, pass sort=False\n",
      "\n",
      "  \n"
     ]
    }
   ],
   "source": [
    "frames = [sampleR, sampleNon]\n",
    "result = pd.concat(frames)\n",
    "result = result.sample(frac=1)"
   ]
  },
  {
   "cell_type": "code",
   "execution_count": 137,
   "metadata": {},
   "outputs": [],
   "source": [
    "revenuelabel = result[\"transactionRevenueLog\"]\n",
    "\n",
    "result = result.drop([\"transactionRevenueLog\",\"Revenue_Original\",\"Revenue_label\"],axis = 1)\n",
    "\n",
    "#\"Revenue_label\""
   ]
  },
  {
   "cell_type": "code",
   "execution_count": 138,
   "metadata": {},
   "outputs": [],
   "source": [
    "y_label = revenuelabel"
   ]
  },
  {
   "cell_type": "code",
   "execution_count": 31,
   "metadata": {},
   "outputs": [],
   "source": [
    "def timer(start_time=None):\n",
    "    if not start_time:\n",
    "        start_time = datetime.now()\n",
    "        return start_time\n",
    "    elif start_time:\n",
    "        thour, temp_sec = divmod((datetime.now() - start_time).total_seconds(), 3600)\n",
    "        tmin, tsec = divmod(temp_sec, 60)\n",
    "        print('\\n Time taken: %i hours %i minutes and %s seconds.' % (thour, tmin, round(tsec, 2)))\n"
   ]
  },
  {
   "cell_type": "code",
   "execution_count": 32,
   "metadata": {},
   "outputs": [],
   "source": [
    "xgb = XGBRegressor(learning_rate=0.01, objective='reg:linear',\n",
    "                    silent=True, nthread=4,min_child_weight = 5,subsample =1,gamma = 0.5)\n",
    "\n",
    "params = {\n",
    "        'min_child_weight': [1, 5, 10],\n",
    "        'gamma': [0.5, 1, 1.5, 2, 5],\n",
    "        'subsample': [0.6, 0.8, 1.0],\n",
    "        'colsample_bytree': [0.6, 0.8, 1.0],\n",
    "        'max_depth': [3, 4, 5],\n",
    "        'n_estimators' : [300,600,800,1000],\n",
    "        }"
   ]
  },
  {
   "cell_type": "code",
   "execution_count": 33,
   "metadata": {},
   "outputs": [],
   "source": [
    "folds = 5\n",
    "param_comb = 5\n",
    "\n",
    "random_search = RandomizedSearchCV(xgb, param_distributions=params, n_iter=param_comb, \\\n",
    "                                   scoring='neg_mean_squared_error', n_jobs=4, \\\n",
    "                                   cv=5, verbose=3, random_state=1001 )"
   ]
  },
  {
   "cell_type": "code",
   "execution_count": 139,
   "metadata": {
    "scrolled": true
   },
   "outputs": [
    {
     "name": "stdout",
     "output_type": "stream",
     "text": [
      "Fitting 5 folds for each of 5 candidates, totalling 25 fits\n"
     ]
    },
    {
     "name": "stderr",
     "output_type": "stream",
     "text": [
      "[Parallel(n_jobs=4)]: Using backend LokyBackend with 4 concurrent workers.\n",
      "[Parallel(n_jobs=4)]: Done  25 out of  25 | elapsed:  1.2min finished\n"
     ]
    },
    {
     "name": "stdout",
     "output_type": "stream",
     "text": [
      "\n",
      " Time taken: 0 hours 1 minutes and 23.12 seconds.\n"
     ]
    }
   ],
   "source": [
    "start_time = timer(None) # timing starts from this point for \"start_time\" variable\n",
    "random_search.fit(result,y_label)\n",
    "timer(start_time) # timing ends here for \"start_time\" variable"
   ]
  },
  {
   "cell_type": "code",
   "execution_count": 35,
   "metadata": {},
   "outputs": [
    {
     "name": "stdout",
     "output_type": "stream",
     "text": [
      "{'subsample': 0.8, 'n_estimators': 300, 'min_child_weight': 5, 'max_depth': 3, 'gamma': 2, 'colsample_bytree': 0.8} 1.1868971676896838   1.4087248866697932\n",
      "{'subsample': 1.0, 'n_estimators': 600, 'min_child_weight': 1, 'max_depth': 4, 'gamma': 2, 'colsample_bytree': 0.8} 1.1560103176412417   1.3363598544930044\n",
      "{'subsample': 0.8, 'n_estimators': 300, 'min_child_weight': 10, 'max_depth': 3, 'gamma': 1, 'colsample_bytree': 1.0} 1.1839506208366979   1.4017390725796024\n",
      "{'subsample': 0.8, 'n_estimators': 1000, 'min_child_weight': 10, 'max_depth': 4, 'gamma': 1.5, 'colsample_bytree': 0.6} 1.1236786424058547   1.2626536913990647\n",
      "{'subsample': 1.0, 'n_estimators': 300, 'min_child_weight': 1, 'max_depth': 4, 'gamma': 5, 'colsample_bytree': 1.0} 1.1678955983665475   1.363980128683956\n"
     ]
    }
   ],
   "source": [
    "cvres = random_search.cv_results_\n",
    "for mean_score, params in zip(cvres[\"mean_test_score\"], cvres[\"params\"]):\n",
    "    print (params, np.sqrt(-mean_score),' ',-mean_score)"
   ]
  },
  {
   "cell_type": "code",
   "execution_count": 44,
   "metadata": {},
   "outputs": [
    {
     "name": "stdout",
     "output_type": "stream",
     "text": [
      "\n",
      " Best estimator:\n",
      "XGBRegressor(base_score=0.5, booster='gbtree', colsample_bylevel=1,\n",
      "       colsample_bytree=0.6, gamma=1.5, learning_rate=0.01,\n",
      "       max_delta_step=0, max_depth=4, min_child_weight=10, missing=None,\n",
      "       n_estimators=1000, n_jobs=1, nthread=4, objective='reg:linear',\n",
      "       random_state=0, reg_alpha=0, reg_lambda=1, scale_pos_weight=1,\n",
      "       seed=None, silent=True, subsample=0.8)\n",
      "1.2626536913990647 1.1236786424058547\n"
     ]
    }
   ],
   "source": [
    "print('\\n Best estimator:')\n",
    "print(random_search.best_estimator_)\n",
    "print(-random_search.best_score_,np.sqrt(-random_search.best_score_))"
   ]
  },
  {
   "cell_type": "code",
   "execution_count": 140,
   "metadata": {},
   "outputs": [
    {
     "name": "stdout",
     "output_type": "stream",
     "text": [
      "\n",
      " Best estimator:\n",
      "XGBRegressor(base_score=0.5, booster='gbtree', colsample_bylevel=1,\n",
      "       colsample_bytree=0.6, gamma=1.5, learning_rate=0.01,\n",
      "       max_delta_step=0, max_depth=4, min_child_weight=10, missing=None,\n",
      "       n_estimators=1000, n_jobs=1, nthread=4, objective='reg:linear',\n",
      "       random_state=0, reg_alpha=0, reg_lambda=1, scale_pos_weight=1,\n",
      "       seed=None, silent=True, subsample=0.8)\n",
      "1.3622012798947878 1.1671337883442445\n"
     ]
    }
   ],
   "source": [
    "print('\\n Best estimator:')\n",
    "print(random_search.best_estimator_)\n",
    "print(-random_search.best_score_,np.sqrt(-random_search.best_score_))"
   ]
  },
  {
   "cell_type": "code",
   "execution_count": 147,
   "metadata": {},
   "outputs": [],
   "source": [
    "test_pred_3 = random_search.best_estimator_.predict(test[result.columns])"
   ]
  },
  {
   "cell_type": "code",
   "execution_count": 41,
   "metadata": {},
   "outputs": [],
   "source": [
    "def engineer_prediction(df_test):\n",
    "    df_test[df_test['hits'] == 1].PredictedLogRevenue = 0\n",
    "    df_test[df_test['timeonsite'] == 0].PredictedLogRevenue = 0\n",
    "    return df_test\n",
    " "
   ]
  },
  {
   "cell_type": "code",
   "execution_count": 42,
   "metadata": {},
   "outputs": [
    {
     "name": "stderr",
     "output_type": "stream",
     "text": [
      "/Users/JasonLi/anaconda3/lib/python3.6/site-packages/pandas/core/generic.py:4401: SettingWithCopyWarning: \n",
      "A value is trying to be set on a copy of a slice from a DataFrame.\n",
      "Try using .loc[row_indexer,col_indexer] = value instead\n",
      "\n",
      "See the caveats in the documentation: http://pandas.pydata.org/pandas-docs/stable/indexing.html#indexing-view-versus-copy\n",
      "  self[name] = value\n"
     ]
    }
   ],
   "source": [
    "test['PredictedLogRevenue'] =test_pred_3\n",
    "test = engineer_prediction(test)"
   ]
  },
  {
   "cell_type": "code",
   "execution_count": 42,
   "metadata": {},
   "outputs": [
    {
     "data": {
      "text/plain": [
       "<matplotlib.axes._subplots.AxesSubplot at 0x1a109b8518>"
      ]
     },
     "execution_count": 42,
     "metadata": {},
     "output_type": "execute_result"
    },
    {
     "data": {
      "image/png": "[encoded data removed]",
      "text/plain": [
       "<Figure size 1440x1080 with 1 Axes>"
      ]
     },
     "metadata": {},
     "output_type": "display_data"
    }
   ],
   "source": [
    "fig, ax = plt.subplots(figsize=(20,15))\n",
    "plot_importance(random_search.best_estimator_, ax = ax)"
   ]
  },
  {
   "cell_type": "code",
   "execution_count": 148,
   "metadata": {
    "scrolled": false
   },
   "outputs": [
    {
     "data": {
      "text/plain": [
       "1.886598815617249"
      ]
     },
     "execution_count": 148,
     "metadata": {},
     "output_type": "execute_result"
    }
   ],
   "source": [
    "np.sqrt(mean_squared_error(test_label[\"transactionRevenueLog\"], test_pred_3))"
   ]
  },
  {
   "cell_type": "code",
   "execution_count": 46,
   "metadata": {},
   "outputs": [],
   "source": [
    "#pickle.dump(random_search.best_estimator_, open(\"xgb_boost_model.dat\", \"wb\"))"
   ]
  },
  {
   "cell_type": "code",
   "execution_count": 83,
   "metadata": {},
   "outputs": [],
   "source": [
    "#train_label = train[[\"transactionRevenueLog\",\"Revenue_label\",\"Revenue_Original\"]]\n",
    "\n",
    "#train = train.drop([\"transactionRevenueLog\",\"Revenue_Original\",'Revenue_label'],axis = 1)\n",
    "#\"Revenue_label\""
   ]
  },
  {
   "cell_type": "code",
   "execution_count": 84,
   "metadata": {},
   "outputs": [],
   "source": [
    "#loaded_model = pickle.load(open(\"xgb_boost_model.dat\", \"rb\"))"
   ]
  },
  {
   "cell_type": "code",
   "execution_count": 2,
   "metadata": {},
   "outputs": [],
   "source": [
    "#loaded_model.fit(train, train_label[\"transactionRevenueLog\"])"
   ]
  },
  {
   "cell_type": "code",
   "execution_count": 87,
   "metadata": {},
   "outputs": [],
   "source": [
    "#test_pred = loaded_model.predict(test[train.columns])"
   ]
  },
  {
   "cell_type": "code",
   "execution_count": 1,
   "metadata": {},
   "outputs": [],
   "source": [
    "#np.sqrt(mean_squared_error(test_label[\"transactionRevenueLog\"], test_pred))"
   ]
  },
  {
   "cell_type": "code",
   "execution_count": null,
   "metadata": {},
   "outputs": [],
   "source": []
  }
 ],
 "metadata": {
  "kernelspec": {
   "display_name": "Python 3",
   "language": "python",
   "name": "python3"
  },
  "varInspector": {
   "cols": {
    "lenName": 16,
    "lenType": 16,
    "lenVar": 40
   },
   "kernels_config": {
    "python": {
     "delete_cmd_postfix": "",
     "delete_cmd_prefix": "del ",
     "library": "var_list.py",
     "varRefreshCmd": "print(var_dic_list())"
    },
    "r": {
     "delete_cmd_postfix": ") ",
     "delete_cmd_prefix": "rm(",
     "library": "var_list.r",
     "varRefreshCmd": "cat(var_dic_list()) "
    }
   },
   "position": {
    "height": "411px",
    "left": "1550px",
    "right": "20px",
    "top": "120px",
    "width": "282px"
   },
   "types_to_exclude": [
    "module",
    "function",
    "builtin_function_or_method",
    "instance",
    "_Feature"
   ],
   "window_display": true
  }
 },
 "nbformat": 4,
 "nbformat_minor": 2
}
